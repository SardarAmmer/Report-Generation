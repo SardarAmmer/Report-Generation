{
  "nbformat": 4,
  "nbformat_minor": 0,
  "metadata": {
    "colab": {
      "provenance": [],
      "authorship_tag": "ABX9TyMi2RP5olgE5H6Wkfx7O7U6",
      "include_colab_link": true
    },
    "kernelspec": {
      "name": "python3",
      "display_name": "Python 3"
    },
    "language_info": {
      "name": "python"
    }
  },
  "cells": [
    {
      "cell_type": "markdown",
      "metadata": {
        "id": "view-in-github",
        "colab_type": "text"
      },
      "source": [
        "<a href=\"https://colab.research.google.com/github/SardarAmmer/Report-Generation/blob/main/Report_Generation(MKT).ipynb\" target=\"_parent\"><img src=\"https://colab.research.google.com/assets/colab-badge.svg\" alt=\"Open In Colab\"/></a>"
      ]
    },
    {
      "cell_type": "code",
      "execution_count": 10,
      "metadata": {
        "id": "gFfZGleuAhBg",
        "colab": {
          "base_uri": "https://localhost:8080/"
        },
        "outputId": "4df44f13-4eaf-4017-827f-2a9293da787e"
      },
      "outputs": [
        {
          "output_type": "stream",
          "name": "stderr",
          "text": [
            "/usr/local/lib/python3.12/dist-packages/openpyxl/workbook/child.py:99: UserWarning: Title is more than 31 characters. Some applications may not be able to read the file\n",
            "  warnings.warn(\"Title is more than 31 characters. Some applications may not be able to read the file\")\n"
          ]
        },
        {
          "output_type": "stream",
          "name": "stdout",
          "text": [
            "✅ Saved as Updated_Citywise_Report_FormatA.xlsx\n"
          ]
        }
      ],
      "source": [
        "# @title Dealer Format C (Updated with Sales Office)\n",
        "import pandas as pd\n",
        "from openpyxl import Workbook\n",
        "from openpyxl.styles import Alignment\n",
        "from openpyxl.utils import get_column_letter\n",
        "\n",
        "# === Load and Clean Data ===\n",
        "df = pd.read_csv('/content/1st QTR Complete 25-26.csv', encoding='ISO-8859-1')\n",
        "df.columns = df.columns.str.replace(r'\\s+', '', regex=True)\n",
        "# Ensure the column exists after cleanup\n",
        "if 'DistChannelName' not in df.columns:\n",
        "    raise KeyError(\"Column 'DistChannelName' not found. Available columns: \" + str(df.columns.tolist()))\n",
        "# Filter rows where DistChannelName is 'Dealers' (case-insensitive, ignoring leading/trailing spaces)\n",
        "df = df[df['DistChannelName'].str.strip().str.fullmatch('Dealers', case=False)]\n",
        "\n",
        "df['BillNetValuePKR'] = pd.to_numeric(df['BillNetValuePKR'].astype(str).str.replace(',', ''), errors='coerce')\n",
        "\n",
        "# === Group Data by Sales Office, City, Product Group, Product, Plant ===\n",
        "grouped = df.groupby(\n",
        "    ['SalesOfficeName', 'SalesGroupName', 'PlantName', 'MaterialGrp4Name', 'MaterialName'],\n",
        "    as_index=False\n",
        ").agg({\n",
        "    'DeliveryQuantity': 'sum',\n",
        "    'BillNetValuePKR': 'sum'\n",
        "})\n",
        "\n",
        "# === Plant Order ===\n",
        "plant_order = ['JB', 'Wah', 'DG Khan', 'Niz']\n",
        "\n",
        "# === Create workbook ===\n",
        "wb = Workbook()\n",
        "ws = wb.active\n",
        "ws.title = \"Dealerwise Regional sales Analysis\"\n",
        "\n",
        "# === Header ===\n",
        "header = ['Sales Office Name', 'City Name', 'Product Group', 'Product']\n",
        "for plant in plant_order:\n",
        "    header += [f'{plant} - Total Qty', f'{plant} - Total Amount']\n",
        "ws.append(header)\n",
        "\n",
        "# === Format Data ===\n",
        "offices = grouped['SalesOfficeName'].dropna().unique()\n",
        "\n",
        "for office in offices:\n",
        "    office_data = grouped[grouped['SalesOfficeName'] == office]\n",
        "    cities = office_data['SalesGroupName'].dropna().unique()\n",
        "\n",
        "    for city in cities:\n",
        "        city_data = office_data[office_data['SalesGroupName'] == city]\n",
        "\n",
        "        # Get all unique product group/product combinations\n",
        "        combos = city_data.groupby(['MaterialGrp4Name', 'MaterialName']).size().reset_index().values.tolist()\n",
        "\n",
        "        for group, product, _ in combos:\n",
        "            row = [office, city, group, product]\n",
        "            for plant in plant_order:\n",
        "                match = city_data[\n",
        "                    (city_data['PlantName'] == plant) &\n",
        "                    (city_data['MaterialGrp4Name'] == group) &\n",
        "                    (city_data['MaterialName'] == product)\n",
        "                ]\n",
        "                if not match.empty:\n",
        "                   qty = match['DeliveryQuantity'].values[0]\n",
        "                   amt = match['BillNetValuePKR'].values[0]\n",
        "                   qty = qty if pd.notna(qty) else \"0\"\n",
        "                   amt = amt if pd.notna(amt) else \"0\"\n",
        "                   row += [qty, amt]\n",
        "                else:\n",
        "                    row += [\"nill\", \"nill\"]\n",
        "\n",
        "            ws.append(row)\n",
        "            office = \"\"\n",
        "            city = \"\"\n",
        "\n",
        "# === Format Columns ===\n",
        "for col in range(1, ws.max_column + 1):\n",
        "    ws.column_dimensions[get_column_letter(col)].width = 18\n",
        "\n",
        "for row in ws.iter_rows(min_row=2):\n",
        "    for cell in row:\n",
        "        cell.alignment = Alignment(wrap_text=True, vertical='top')\n",
        "\n",
        "# === Save File ===\n",
        "\n",
        "wb.save('/content/Dealerwise Regional Analysis Report(oct).xlsx')\n",
        "print(\"✅ Saved as Updated_Citywise_Report_FormatA.xlsx\")\n"
      ]
    }
  ]
}